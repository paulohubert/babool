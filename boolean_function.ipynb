{
 "cells": [
  {
   "cell_type": "markdown",
   "metadata": {},
   "source": [
    "# Testing the BoolFunction class for probabilistic boolean function learning"
   ]
  },
  {
   "cell_type": "code",
   "execution_count": 1,
   "metadata": {},
   "outputs": [],
   "source": [
    "import babool as bb\n",
    "import numpy as np"
   ]
  },
  {
   "cell_type": "markdown",
   "metadata": {},
   "source": [
    "## Generating data"
   ]
  },
  {
   "cell_type": "code",
   "execution_count": 2,
   "metadata": {},
   "outputs": [],
   "source": [
    "# For replication purposes, set seed to 1910\n",
    "np.random.seed(1910)"
   ]
  },
  {
   "cell_type": "code",
   "execution_count": 3,
   "metadata": {},
   "outputs": [],
   "source": [
    "# First scenario\n",
    "N = 2000\n",
    "p = 100\n",
    "ktrue = 2\n",
    "k2true = 2\n",
    "phitrue = list(range(ktrue))\n",
    "phitrue2 = list(range(ktrue, ktrue + k2true))\n",
    "p0true = 0.1\n",
    "p1true = 0.9"
   ]
  },
  {
   "cell_type": "markdown",
   "metadata": {},
   "source": [
    "### Two markers"
   ]
  },
  {
   "cell_type": "code",
   "execution_count": 4,
   "metadata": {},
   "outputs": [
    {
     "name": "stdout",
     "output_type": "stream",
     "text": [
      "695.0 affected with 323 marked individuals for term 1 and 288 marked individuals for term 2 on a total of 2000 cases\n"
     ]
    }
   ],
   "source": [
    "def generate_data_m2(N, p):\n",
    "    \n",
    "    # Marker\n",
    "    markers = [list(range(ktrue)), list(range(ktrue, ktrue + k2true))]\n",
    "\n",
    "    M = np.zeros(shape = (N, p))\n",
    "    y = np.zeros(shape = (N))\n",
    "\n",
    "    # Generate marginal probabiliites for X\n",
    "    pvar = np.random.uniform(low= 0.4, high = 0.5, size = p)\n",
    "\n",
    "    nmarked1 = 0\n",
    "    nmarked2 = 0\n",
    "\n",
    "    for cont in range(N):\n",
    "        v = np.random.binomial(n = 1, p = pvar, size = (1, p))\n",
    "\n",
    "        # Apply marker 1\n",
    "        mark = v[:, markers[0]].prod()\n",
    "\n",
    "        if mark > 0:\n",
    "            nmarked1 += 1\n",
    "            u = np.random.binomial(1, p1true)\n",
    "        else:\n",
    "            # Apply marker 2\n",
    "            mark = v[:, markers[1]].prod()\n",
    "\n",
    "            if mark > 0:\n",
    "                nmarked2 += 1\n",
    "                u = np.random.binomial(1, p1true)\n",
    "            else:\n",
    "                u = np.random.binomial(1, p0true)\n",
    "\n",
    "        M[cont, :] = v\n",
    "        y[cont] = u\n",
    "        \n",
    "    return M, y, nmarked1, nmarked2\n",
    "\n",
    "M, y, nmarked1, nmarked2 = generate_data_m2(N, p)        \n",
    "print(\"{} affected with {} marked individuals for term 1 and {} marked individuals for term 2 on a total of {} cases\".format(sum(y), nmarked1, nmarked2, N))"
   ]
  },
  {
   "cell_type": "code",
   "execution_count": 5,
   "metadata": {},
   "outputs": [
    {
     "name": "stdout",
     "output_type": "stream",
     "text": [
      "Conjunction = []\n",
      "Minimum distance = 993.0 for columns 3 and 4\n"
     ]
    }
   ],
   "source": [
    "# Taking the conjunction of all affected individuals\n",
    "# If effect is decisive, this should match phi exactly given N is large enough (See paper)\n",
    "v = np.where(np.prod(M[y==1], axis = 0) == 1)\n",
    "print(\"Conjunction = {}\".format(v[0]))\n",
    "\n",
    "# Verifying if any pair of variables is equivalent\n",
    "minsum = 100000\n",
    "for i in range(p):\n",
    "    for j in range(i+1, p):\n",
    "        s = np.sum(np.abs(M[:,i] - M[:, j]))\n",
    "        if s < minsum:\n",
    "            minsum = s\n",
    "            imin = i\n",
    "            jmin = j\n",
    "            \n",
    "print(\"Minimum distance = {} for columns {} and {}\".format(s, imin, jmin))    "
   ]
  },
  {
   "cell_type": "markdown",
   "metadata": {},
   "source": [
    "# Descriptive analysis"
   ]
  },
  {
   "cell_type": "code",
   "execution_count": 6,
   "metadata": {},
   "outputs": [],
   "source": [
    "import pandas as pd\n",
    "from matplotlib import pyplot as plt"
   ]
  },
  {
   "cell_type": "code",
   "execution_count": 7,
   "metadata": {},
   "outputs": [],
   "source": [
    "# Creates pandas data frame\n",
    "dfsim = pd.DataFrame.from_records(np.c_[y, M])"
   ]
  },
  {
   "cell_type": "code",
   "execution_count": 8,
   "metadata": {},
   "outputs": [],
   "source": [
    "# Pyplot parameter\n",
    "plt.rcParams.update({'font.size' : 22})"
   ]
  },
  {
   "cell_type": "code",
   "execution_count": 9,
   "metadata": {},
   "outputs": [
    {
     "data": {
      "image/png": "[encoded data removed]",
      "text/plain": [
       "<Figure size 1440x720 with 1 Axes>"
      ]
     },
     "metadata": {
      "needs_background": "light"
     },
     "output_type": "display_data"
    }
   ],
   "source": [
    "# Sample frequency for columns of M\n",
    "fig = plt.figure(figsize = (20, 10))\n",
    "\n",
    "colors = ['blue'] * p\n",
    "for i in phitrue:\n",
    "    colors[i] = 'red'\n",
    "for j in phitrue2:\n",
    "    colors[j] = 'purple'\n",
    "\n",
    "prop = M.mean(axis = 0)\n",
    "plt.bar(x = range(p), height = prop, color = colors)\n",
    "plt.grid(True)\n",
    "plt.title(\"Sample frequency for explanatory variables\")\n",
    "plt.xlabel(\"Index\")\n",
    "plt.ylabel(\"Frequency\")\n",
    "#plt.savefig(figdir + 'rare_common_plot1.png')\n",
    "plt.show()"
   ]
  },
  {
   "cell_type": "markdown",
   "metadata": {},
   "source": [
    "### Sample odds ratio for each column of M"
   ]
  },
  {
   "cell_type": "code",
   "execution_count": 10,
   "metadata": {},
   "outputs": [],
   "source": [
    "oddsr = np.zeros(p)\n",
    "for i in range(p):\n",
    "    soma = sum(1-y[M[:,i] == 1])\n",
    "    if soma > 0:\n",
    "        o1 = sum(y[M[:,i] == 1]) / soma\n",
    "    else:\n",
    "        o1 = 0\n",
    "    soma = sum(1-y[M[:,i] == 0])\n",
    "    if soma > 0:\n",
    "        o2 = sum(y[M[:,i] == 0]) / soma        \n",
    "    else:\n",
    "        o2 = 0\n",
    "        \n",
    "    if o2 > 0:\n",
    "        oddsr[i] = o1 / o2\n",
    "    else:\n",
    "        oddsr[i] = 0"
   ]
  },
  {
   "cell_type": "code",
   "execution_count": 11,
   "metadata": {},
   "outputs": [
    {
     "data": {
      "image/png": "[encoded data removed]",
      "text/plain": [
       "<Figure size 1440x720 with 1 Axes>"
      ]
     },
     "metadata": {
      "needs_background": "light"
     },
     "output_type": "display_data"
    }
   ],
   "source": [
    "fig = plt.figure(figsize = (20, 10))\n",
    "\n",
    "colors = ['blue'] * p\n",
    "\n",
    "for i in phitrue:\n",
    "    colors[i] = 'red'\n",
    "for j in phitrue2:\n",
    "    colors[j] = 'purple'\n",
    "    \n",
    "plt.bar(x = range(p), height = oddsr, color = colors)\n",
    "plt.axhline(xmin = 0, xmax = p, y = 1.0, color = 'black', linestyle = '--')\n",
    "\n",
    "plt.grid(True)\n",
    "plt.title(\"Sample odds ratio\")\n",
    "plt.xlabel(\"Index\")\n",
    "plt.ylabel(\"Odds ratio\")\n",
    "plt.show()"
   ]
  },
  {
   "cell_type": "markdown",
   "metadata": {},
   "source": [
    "### Association (chi-squared independence) test"
   ]
  },
  {
   "cell_type": "code",
   "execution_count": 12,
   "metadata": {},
   "outputs": [],
   "source": [
    "from scipy.stats import chi2_contingency\n",
    "\n",
    "pvalues = -np.ones(shape = (p))\n",
    "for i in range(p):\n",
    "    dftmp = pd.crosstab(M[:,i], y)\n",
    "    pvalues[i] = chi2_contingency(dftmp)[1]"
   ]
  },
  {
   "cell_type": "code",
   "execution_count": 13,
   "metadata": {},
   "outputs": [
    {
     "data": {
      "image/png": "[encoded data removed]",
      "text/plain": [
       "<Figure size 1440x720 with 1 Axes>"
      ]
     },
     "metadata": {
      "needs_background": "light"
     },
     "output_type": "display_data"
    }
   ],
   "source": [
    "# P-value threshold to color the bars\n",
    "threshold = 0.01\n",
    "\n",
    "fig = plt.figure(figsize = (20, 10))\n",
    "\n",
    "colors = ['blue'] * p\n",
    "for i in range(p):\n",
    "    if pvalues[i] < threshold:\n",
    "        colors[i] = 'red'\n",
    "        \n",
    "plt.bar(x = range(p), height = -np.log10(pvalues), color = colors)\n",
    "plt.axhline(xmin = 0, xmax = p, y = 2, linestyle = '--', color = 'black')\n",
    "plt.grid(True)\n",
    "plt.ylabel(\"-log10(p)\")\n",
    "plt.xlabel(\"Index\")\n",
    "plt.title(\"Chi-square independence test (p-value)\")\n",
    "plt.show()"
   ]
  },
  {
   "cell_type": "markdown",
   "metadata": {},
   "source": [
    "## Probabilistic Boolean function learning"
   ]
  },
  {
   "cell_type": "markdown",
   "metadata": {},
   "source": [
    "### Creates object"
   ]
  },
  {
   "cell_type": "code",
   "execution_count": 5,
   "metadata": {},
   "outputs": [],
   "source": [
    "model = bb.BoolFunction(pgeomm = None, theta = 10)"
   ]
  },
  {
   "cell_type": "markdown",
   "metadata": {},
   "source": [
    "### Train model"
   ]
  },
  {
   "cell_type": "code",
   "execution_count": 6,
   "metadata": {},
   "outputs": [
    {
     "name": "stdout",
     "output_type": "stream",
     "text": [
      "CPU times: user 72.3 ms, sys: 28.6 ms, total: 101 ms\n",
      "Wall time: 14.9 s\n"
     ]
    }
   ],
   "source": [
    "%%time\n",
    "nchains = 1\n",
    "njobs = -1\n",
    "nsteps = 10000\n",
    "nstart = 20\n",
    "\n",
    "results = model.fit(M, y, nchains, njobs, nsteps, nstart )"
   ]
  },
  {
   "cell_type": "code",
   "execution_count": 20,
   "metadata": {},
   "outputs": [
    {
     "name": "stdout",
     "output_type": "stream",
     "text": [
      "f = [[0, 1]]\n",
      "p0 = 0.2382. p1 = 0.9138\n",
      "Post = -1020.6890\n"
     ]
    }
   ],
   "source": [
    "for r in results:\n",
    "    print(\"f = {}\".format(r[0][0]))\n",
    "    print(\"p0 = {:.4f}. p1 = {:.4f}\".format(r[0][1], r[0][2]))\n",
    "    print(\"Post = {:.4f}\".format(r[1]))"
   ]
  },
  {
   "cell_type": "code",
   "execution_count": 7,
   "metadata": {},
   "outputs": [
    {
     "ename": "NameError",
     "evalue": "name 'markers' is not defined",
     "output_type": "error",
     "traceback": [
      "\u001b[0;31m---------------------------------------------------------------------------\u001b[0m",
      "\u001b[0;31mNameError\u001b[0m                                 Traceback (most recent call last)",
      "\u001b[0;32m<ipython-input-7-04065fe5f34a>\u001b[0m in \u001b[0;36m<module>\u001b[0;34m\u001b[0m\n\u001b[0;32m----> 1\u001b[0;31m \u001b[0mmodel\u001b[0m\u001b[0;34m.\u001b[0m\u001b[0mpost\u001b[0m\u001b[0;34m(\u001b[0m\u001b[0mp0true\u001b[0m\u001b[0;34m,\u001b[0m \u001b[0mp1true\u001b[0m\u001b[0;34m,\u001b[0m \u001b[0mmarkers\u001b[0m\u001b[0;34m)\u001b[0m\u001b[0;34m\u001b[0m\u001b[0;34m\u001b[0m\u001b[0m\n\u001b[0m",
      "\u001b[0;31mNameError\u001b[0m: name 'markers' is not defined"
     ]
    }
   ],
   "source": [
    "model.post(p0true, p1true, markers)"
   ]
  },
  {
   "cell_type": "markdown",
   "metadata": {},
   "source": [
    "### Testing combinations"
   ]
  },
  {
   "cell_type": "code",
   "execution_count": 99,
   "metadata": {},
   "outputs": [],
   "source": [
    "m0 = [1]\n",
    "lnchains = [20]\n",
    "ltheta = [10]\n",
    "lpgeomm = [0.5]\n",
    "Ns = [100, 250, 500]"
   ]
  },
  {
   "cell_type": "markdown",
   "metadata": {},
   "source": [
    "Testing for 10 simulated datasets"
   ]
  },
  {
   "cell_type": "code",
   "execution_count": 100,
   "metadata": {},
   "outputs": [],
   "source": [
    "nsim = 10"
   ]
  },
  {
   "cell_type": "code",
   "execution_count": 103,
   "metadata": {},
   "outputs": [
    {
     "name": "stdout",
     "output_type": "stream",
     "text": [
      "Run 0 - 16 marked 1, 12 marked 2\n",
      "Run 1 - 19 marked 1, 18 marked 2\n",
      "Run 2 - 14 marked 1, 20 marked 2\n",
      "Run 3 - 17 marked 1, 17 marked 2\n",
      "Run 4 - 15 marked 1, 11 marked 2\n",
      "Run 5 - 29 marked 1, 15 marked 2\n",
      "Run 6 - 16 marked 1, 22 marked 2\n",
      "Run 7 - 25 marked 1, 15 marked 2\n",
      "Run 8 - 25 marked 1, 13 marked 2\n",
      "Run 9 - 15 marked 1, 19 marked 2\n",
      "Run 0 - 47 marked 1, 46 marked 2\n",
      "Run 1 - 57 marked 1, 50 marked 2\n",
      "Run 2 - 48 marked 1, 33 marked 2\n",
      "Run 3 - 56 marked 1, 36 marked 2\n",
      "Run 4 - 47 marked 1, 47 marked 2\n",
      "Run 5 - 49 marked 1, 46 marked 2\n",
      "Run 6 - 53 marked 1, 35 marked 2\n",
      "Run 7 - 40 marked 1, 41 marked 2\n",
      "Run 8 - 57 marked 1, 40 marked 2\n",
      "Run 9 - 50 marked 1, 34 marked 2\n",
      "Run 0 - 114 marked 1, 82 marked 2\n",
      "Run 1 - 100 marked 1, 74 marked 2\n",
      "Run 2 - 113 marked 1, 84 marked 2\n",
      "Run 3 - 107 marked 1, 74 marked 2\n",
      "Run 4 - 106 marked 1, 80 marked 2\n",
      "Run 5 - 90 marked 1, 93 marked 2\n",
      "Run 6 - 107 marked 1, 71 marked 2\n",
      "Run 7 - 121 marked 1, 78 marked 2\n",
      "Run 8 - 124 marked 1, 75 marked 2\n",
      "Run 9 - 102 marked 1, 97 marked 2\n",
      "CPU times: user 7.73 s, sys: 1.56 s, total: 9.3 s\n",
      "Wall time: 20min 27s\n"
     ]
    }
   ],
   "source": [
    "%%time\n",
    "np.random.seed(1910)\n",
    "\n",
    "njobs = -1\n",
    "nsteps = 10000\n",
    "\n",
    "optim = []\n",
    "N = 1000\n",
    "for N in Ns:\n",
    "    for ii in range(nsim):\n",
    "\n",
    "        M, y, n1, n2 = generate_data_m2(N, p)\n",
    "        print(\"Run {} - {} marked 1, {} marked 2\".format(ii, n1, n2))\n",
    "        for i in range(len(lnchains)):\n",
    "            nchains = lnchains[i]\n",
    "            for k in range(len(m0)):\n",
    "                nstart = m0[k]\n",
    "                for j in range(len(ltheta)):\n",
    "                    theta = ltheta[j]\n",
    "                    pgeomm = lpgeomm[j]\n",
    "\n",
    "                    model = bb.BoolFunction(pgeomm = pgeomm, theta = theta)\n",
    "                    results = model.fit(M, y, nchains, njobs, nsteps, nstart)\n",
    "\n",
    "                    optim.append([ii, N, nstart, nchains, theta, pgeomm, model.psi, model.p0, model.p1])\n"
   ]
  },
  {
   "cell_type": "code",
   "execution_count": 104,
   "metadata": {},
   "outputs": [],
   "source": [
    "import pickle\n",
    "\n",
    "with open('res3.pkl', 'wb') as arq:\n",
    "    pickle.dump(optim, arq)"
   ]
  },
  {
   "cell_type": "markdown",
   "metadata": {},
   "source": [
    "### Formatting output"
   ]
  },
  {
   "cell_type": "code",
   "execution_count": 105,
   "metadata": {},
   "outputs": [],
   "source": [
    "def convert_f(l):\n",
    "    ret = ''\n",
    "    sortm = []\n",
    "    for m in l:\n",
    "        m.sort()\n",
    "        mstart = m[0]\n",
    "        if len(sortm) == 0:\n",
    "            sortm.append(m)\n",
    "        else:\n",
    "            i = 0\n",
    "            while i < len(sortm) and sortm[i][0] < mstart:\n",
    "                i += 1\n",
    "            sortm.insert(i, m)\n",
    "    \n",
    "    for m in sortm:\n",
    "        for i in m:\n",
    "            ret += 'x' + str(i)\n",
    "        ret += ' + '\n",
    "        \n",
    "    return ret[:-3]\n",
    "            "
   ]
  },
  {
   "cell_type": "code",
   "execution_count": 107,
   "metadata": {},
   "outputs": [],
   "source": [
    "import pandas as pd\n",
    "\n",
    "#dfres = pd.DataFrame({'run' : [o[0] for o in optim], 'nstart' : [o[1] for o in optim], 'nchains' : [o[2] for o in optim], 'theta' : [o[3] for o in optim], 'pgeom' : [o[4] for o in optim], 'psi' : [convert_f(o[5]) for o in optim], 'p0' : [o[6] for o in optim], 'p1' : [o[7] for o in optim]})\n",
    "dfres = pd.DataFrame({'run' : [o[0] for o in optim], 'N' : [o[1] for o in optim],'psi' : [convert_f(o[6]) for o in optim], 'p0' : [o[7] for o in optim], 'p1' : [o[8] for o in optim]})"
   ]
  },
  {
   "cell_type": "code",
   "execution_count": 108,
   "metadata": {},
   "outputs": [],
   "source": [
    "import re\n",
    "\n",
    "def find_term_1(s):\n",
    "    i = re.findall('x0x1(?:\\s|$)', s)\n",
    "    if len(i) > 0:\n",
    "        return 1\n",
    "    else:\n",
    "        return 0\n",
    "    \n",
    "    \n",
    "def find_term_2(s):\n",
    "    i = re.findall('(?:\\s|^)x2x3(?:\\s|$)', s)\n",
    "    if len(i) > 0:\n",
    "        return 1\n",
    "    else:\n",
    "        return 0\n",
    "    \n",
    "    \n",
    "dfres['m'] = dfres.psi.apply(lambda l: len(l.split('+')))\n",
    "dfres['sum k'] = dfres.psi.apply(lambda l: l.count('x'))\n",
    "dfres['term1'] = dfres.psi.apply(find_term_1)\n",
    "dfres['term2'] = dfres.psi.apply(find_term_2)"
   ]
  },
  {
   "cell_type": "code",
   "execution_count": 110,
   "metadata": {
    "scrolled": true
   },
   "outputs": [
    {
     "data": {
      "text/html": [
       "<div>\n",
       "<style scoped>\n",
       "    .dataframe tbody tr th:only-of-type {\n",
       "        vertical-align: middle;\n",
       "    }\n",
       "\n",
       "    .dataframe tbody tr th {\n",
       "        vertical-align: top;\n",
       "    }\n",
       "\n",
       "    .dataframe thead th {\n",
       "        text-align: right;\n",
       "    }\n",
       "</style>\n",
       "<table border=\"1\" class=\"dataframe\">\n",
       "  <thead>\n",
       "    <tr style=\"text-align: right;\">\n",
       "      <th></th>\n",
       "      <th>run</th>\n",
       "      <th>N</th>\n",
       "      <th>psi</th>\n",
       "      <th>p0</th>\n",
       "      <th>p1</th>\n",
       "      <th>m</th>\n",
       "      <th>sum k</th>\n",
       "      <th>term1</th>\n",
       "      <th>term2</th>\n",
       "    </tr>\n",
       "  </thead>\n",
       "  <tbody>\n",
       "    <tr>\n",
       "      <th>0</th>\n",
       "      <td>0</td>\n",
       "      <td>100</td>\n",
       "      <td>x2x3</td>\n",
       "      <td>0.204545</td>\n",
       "      <td>0.875000</td>\n",
       "      <td>1</td>\n",
       "      <td>2</td>\n",
       "      <td>0</td>\n",
       "      <td>1</td>\n",
       "    </tr>\n",
       "    <tr>\n",
       "      <th>1</th>\n",
       "      <td>1</td>\n",
       "      <td>100</td>\n",
       "      <td>x0x1</td>\n",
       "      <td>0.313253</td>\n",
       "      <td>0.904762</td>\n",
       "      <td>1</td>\n",
       "      <td>2</td>\n",
       "      <td>1</td>\n",
       "      <td>0</td>\n",
       "    </tr>\n",
       "    <tr>\n",
       "      <th>2</th>\n",
       "      <td>2</td>\n",
       "      <td>100</td>\n",
       "      <td>x0x1</td>\n",
       "      <td>0.272727</td>\n",
       "      <td>0.937500</td>\n",
       "      <td>1</td>\n",
       "      <td>2</td>\n",
       "      <td>1</td>\n",
       "      <td>0</td>\n",
       "    </tr>\n",
       "    <tr>\n",
       "      <th>3</th>\n",
       "      <td>3</td>\n",
       "      <td>100</td>\n",
       "      <td>x0x1 + x2x3</td>\n",
       "      <td>0.058824</td>\n",
       "      <td>0.805556</td>\n",
       "      <td>2</td>\n",
       "      <td>4</td>\n",
       "      <td>1</td>\n",
       "      <td>1</td>\n",
       "    </tr>\n",
       "    <tr>\n",
       "      <th>4</th>\n",
       "      <td>4</td>\n",
       "      <td>100</td>\n",
       "      <td>x0x1</td>\n",
       "      <td>0.241379</td>\n",
       "      <td>0.941176</td>\n",
       "      <td>1</td>\n",
       "      <td>2</td>\n",
       "      <td>1</td>\n",
       "      <td>0</td>\n",
       "    </tr>\n",
       "    <tr>\n",
       "      <th>5</th>\n",
       "      <td>5</td>\n",
       "      <td>100</td>\n",
       "      <td>x2x3</td>\n",
       "      <td>0.282051</td>\n",
       "      <td>0.923077</td>\n",
       "      <td>1</td>\n",
       "      <td>2</td>\n",
       "      <td>0</td>\n",
       "      <td>1</td>\n",
       "    </tr>\n",
       "    <tr>\n",
       "      <th>6</th>\n",
       "      <td>6</td>\n",
       "      <td>100</td>\n",
       "      <td>x2x3</td>\n",
       "      <td>0.223684</td>\n",
       "      <td>0.928571</td>\n",
       "      <td>1</td>\n",
       "      <td>2</td>\n",
       "      <td>0</td>\n",
       "      <td>1</td>\n",
       "    </tr>\n",
       "    <tr>\n",
       "      <th>7</th>\n",
       "      <td>7</td>\n",
       "      <td>100</td>\n",
       "      <td>x0x1</td>\n",
       "      <td>0.246753</td>\n",
       "      <td>0.777778</td>\n",
       "      <td>1</td>\n",
       "      <td>2</td>\n",
       "      <td>1</td>\n",
       "      <td>0</td>\n",
       "    </tr>\n",
       "    <tr>\n",
       "      <th>8</th>\n",
       "      <td>8</td>\n",
       "      <td>100</td>\n",
       "      <td>x0x1</td>\n",
       "      <td>0.220779</td>\n",
       "      <td>0.888889</td>\n",
       "      <td>1</td>\n",
       "      <td>2</td>\n",
       "      <td>1</td>\n",
       "      <td>0</td>\n",
       "    </tr>\n",
       "    <tr>\n",
       "      <th>9</th>\n",
       "      <td>9</td>\n",
       "      <td>100</td>\n",
       "      <td>x2x3</td>\n",
       "      <td>0.227848</td>\n",
       "      <td>0.840000</td>\n",
       "      <td>1</td>\n",
       "      <td>2</td>\n",
       "      <td>0</td>\n",
       "      <td>1</td>\n",
       "    </tr>\n",
       "    <tr>\n",
       "      <th>10</th>\n",
       "      <td>0</td>\n",
       "      <td>250</td>\n",
       "      <td>x0x1 + x2x3</td>\n",
       "      <td>0.075472</td>\n",
       "      <td>0.905263</td>\n",
       "      <td>2</td>\n",
       "      <td>4</td>\n",
       "      <td>1</td>\n",
       "      <td>1</td>\n",
       "    </tr>\n",
       "    <tr>\n",
       "      <th>11</th>\n",
       "      <td>1</td>\n",
       "      <td>250</td>\n",
       "      <td>x2x3</td>\n",
       "      <td>0.294737</td>\n",
       "      <td>0.921875</td>\n",
       "      <td>1</td>\n",
       "      <td>2</td>\n",
       "      <td>0</td>\n",
       "      <td>1</td>\n",
       "    </tr>\n",
       "    <tr>\n",
       "      <th>12</th>\n",
       "      <td>2</td>\n",
       "      <td>250</td>\n",
       "      <td>x2x3</td>\n",
       "      <td>0.258373</td>\n",
       "      <td>0.911111</td>\n",
       "      <td>1</td>\n",
       "      <td>2</td>\n",
       "      <td>0</td>\n",
       "      <td>1</td>\n",
       "    </tr>\n",
       "    <tr>\n",
       "      <th>13</th>\n",
       "      <td>3</td>\n",
       "      <td>250</td>\n",
       "      <td>x0x1 + x2x3</td>\n",
       "      <td>0.087500</td>\n",
       "      <td>0.914894</td>\n",
       "      <td>2</td>\n",
       "      <td>4</td>\n",
       "      <td>1</td>\n",
       "      <td>1</td>\n",
       "    </tr>\n",
       "    <tr>\n",
       "      <th>14</th>\n",
       "      <td>4</td>\n",
       "      <td>250</td>\n",
       "      <td>x0x1 + x2x3</td>\n",
       "      <td>0.120253</td>\n",
       "      <td>0.864583</td>\n",
       "      <td>2</td>\n",
       "      <td>4</td>\n",
       "      <td>1</td>\n",
       "      <td>1</td>\n",
       "    </tr>\n",
       "    <tr>\n",
       "      <th>15</th>\n",
       "      <td>5</td>\n",
       "      <td>250</td>\n",
       "      <td>x2x3</td>\n",
       "      <td>0.257732</td>\n",
       "      <td>0.916667</td>\n",
       "      <td>1</td>\n",
       "      <td>2</td>\n",
       "      <td>0</td>\n",
       "      <td>1</td>\n",
       "    </tr>\n",
       "    <tr>\n",
       "      <th>16</th>\n",
       "      <td>6</td>\n",
       "      <td>250</td>\n",
       "      <td>x0x1</td>\n",
       "      <td>0.251256</td>\n",
       "      <td>0.945455</td>\n",
       "      <td>1</td>\n",
       "      <td>2</td>\n",
       "      <td>1</td>\n",
       "      <td>0</td>\n",
       "    </tr>\n",
       "    <tr>\n",
       "      <th>17</th>\n",
       "      <td>7</td>\n",
       "      <td>250</td>\n",
       "      <td>x0x1 + x2x3</td>\n",
       "      <td>0.093567</td>\n",
       "      <td>0.879518</td>\n",
       "      <td>2</td>\n",
       "      <td>4</td>\n",
       "      <td>1</td>\n",
       "      <td>1</td>\n",
       "    </tr>\n",
       "    <tr>\n",
       "      <th>18</th>\n",
       "      <td>8</td>\n",
       "      <td>250</td>\n",
       "      <td>x0x1 + x2x3</td>\n",
       "      <td>0.103226</td>\n",
       "      <td>0.919192</td>\n",
       "      <td>2</td>\n",
       "      <td>4</td>\n",
       "      <td>1</td>\n",
       "      <td>1</td>\n",
       "    </tr>\n",
       "    <tr>\n",
       "      <th>19</th>\n",
       "      <td>9</td>\n",
       "      <td>250</td>\n",
       "      <td>x0x1</td>\n",
       "      <td>0.257426</td>\n",
       "      <td>0.865385</td>\n",
       "      <td>1</td>\n",
       "      <td>2</td>\n",
       "      <td>1</td>\n",
       "      <td>0</td>\n",
       "    </tr>\n",
       "    <tr>\n",
       "      <th>20</th>\n",
       "      <td>0</td>\n",
       "      <td>500</td>\n",
       "      <td>x0x1 + x2x3</td>\n",
       "      <td>0.098039</td>\n",
       "      <td>0.838384</td>\n",
       "      <td>2</td>\n",
       "      <td>4</td>\n",
       "      <td>1</td>\n",
       "      <td>1</td>\n",
       "    </tr>\n",
       "    <tr>\n",
       "      <th>21</th>\n",
       "      <td>1</td>\n",
       "      <td>500</td>\n",
       "      <td>x0x1 + x2x3</td>\n",
       "      <td>0.070122</td>\n",
       "      <td>0.869318</td>\n",
       "      <td>2</td>\n",
       "      <td>4</td>\n",
       "      <td>1</td>\n",
       "      <td>1</td>\n",
       "    </tr>\n",
       "    <tr>\n",
       "      <th>22</th>\n",
       "      <td>2</td>\n",
       "      <td>500</td>\n",
       "      <td>x2x3</td>\n",
       "      <td>0.293671</td>\n",
       "      <td>0.908257</td>\n",
       "      <td>1</td>\n",
       "      <td>2</td>\n",
       "      <td>0</td>\n",
       "      <td>1</td>\n",
       "    </tr>\n",
       "    <tr>\n",
       "      <th>23</th>\n",
       "      <td>3</td>\n",
       "      <td>500</td>\n",
       "      <td>x0x1 + x2x3</td>\n",
       "      <td>0.087227</td>\n",
       "      <td>0.879781</td>\n",
       "      <td>2</td>\n",
       "      <td>4</td>\n",
       "      <td>1</td>\n",
       "      <td>1</td>\n",
       "    </tr>\n",
       "    <tr>\n",
       "      <th>24</th>\n",
       "      <td>4</td>\n",
       "      <td>500</td>\n",
       "      <td>x0x1 + x2x3</td>\n",
       "      <td>0.079114</td>\n",
       "      <td>0.861702</td>\n",
       "      <td>2</td>\n",
       "      <td>4</td>\n",
       "      <td>1</td>\n",
       "      <td>1</td>\n",
       "    </tr>\n",
       "    <tr>\n",
       "      <th>25</th>\n",
       "      <td>5</td>\n",
       "      <td>500</td>\n",
       "      <td>x0x1 + x2x3</td>\n",
       "      <td>0.094044</td>\n",
       "      <td>0.875676</td>\n",
       "      <td>2</td>\n",
       "      <td>4</td>\n",
       "      <td>1</td>\n",
       "      <td>1</td>\n",
       "    </tr>\n",
       "    <tr>\n",
       "      <th>26</th>\n",
       "      <td>6</td>\n",
       "      <td>500</td>\n",
       "      <td>x0x1 + x2x3</td>\n",
       "      <td>0.104938</td>\n",
       "      <td>0.905556</td>\n",
       "      <td>2</td>\n",
       "      <td>4</td>\n",
       "      <td>1</td>\n",
       "      <td>1</td>\n",
       "    </tr>\n",
       "    <tr>\n",
       "      <th>27</th>\n",
       "      <td>7</td>\n",
       "      <td>500</td>\n",
       "      <td>x0x1 + x2x3</td>\n",
       "      <td>0.105611</td>\n",
       "      <td>0.865672</td>\n",
       "      <td>2</td>\n",
       "      <td>4</td>\n",
       "      <td>1</td>\n",
       "      <td>1</td>\n",
       "    </tr>\n",
       "    <tr>\n",
       "      <th>28</th>\n",
       "      <td>8</td>\n",
       "      <td>500</td>\n",
       "      <td>x0x1 + x2x3</td>\n",
       "      <td>0.115512</td>\n",
       "      <td>0.880597</td>\n",
       "      <td>2</td>\n",
       "      <td>4</td>\n",
       "      <td>1</td>\n",
       "      <td>1</td>\n",
       "    </tr>\n",
       "    <tr>\n",
       "      <th>29</th>\n",
       "      <td>9</td>\n",
       "      <td>500</td>\n",
       "      <td>x0x1 + x2x3</td>\n",
       "      <td>0.092409</td>\n",
       "      <td>0.890547</td>\n",
       "      <td>2</td>\n",
       "      <td>4</td>\n",
       "      <td>1</td>\n",
       "      <td>1</td>\n",
       "    </tr>\n",
       "  </tbody>\n",
       "</table>\n",
       "</div>"
      ],
      "text/plain": [
       "    run    N          psi        p0        p1  m  sum k  term1  term2\n",
       "0     0  100         x2x3  0.204545  0.875000  1      2      0      1\n",
       "1     1  100         x0x1  0.313253  0.904762  1      2      1      0\n",
       "2     2  100         x0x1  0.272727  0.937500  1      2      1      0\n",
       "3     3  100  x0x1 + x2x3  0.058824  0.805556  2      4      1      1\n",
       "4     4  100         x0x1  0.241379  0.941176  1      2      1      0\n",
       "5     5  100         x2x3  0.282051  0.923077  1      2      0      1\n",
       "6     6  100         x2x3  0.223684  0.928571  1      2      0      1\n",
       "7     7  100         x0x1  0.246753  0.777778  1      2      1      0\n",
       "8     8  100         x0x1  0.220779  0.888889  1      2      1      0\n",
       "9     9  100         x2x3  0.227848  0.840000  1      2      0      1\n",
       "10    0  250  x0x1 + x2x3  0.075472  0.905263  2      4      1      1\n",
       "11    1  250         x2x3  0.294737  0.921875  1      2      0      1\n",
       "12    2  250         x2x3  0.258373  0.911111  1      2      0      1\n",
       "13    3  250  x0x1 + x2x3  0.087500  0.914894  2      4      1      1\n",
       "14    4  250  x0x1 + x2x3  0.120253  0.864583  2      4      1      1\n",
       "15    5  250         x2x3  0.257732  0.916667  1      2      0      1\n",
       "16    6  250         x0x1  0.251256  0.945455  1      2      1      0\n",
       "17    7  250  x0x1 + x2x3  0.093567  0.879518  2      4      1      1\n",
       "18    8  250  x0x1 + x2x3  0.103226  0.919192  2      4      1      1\n",
       "19    9  250         x0x1  0.257426  0.865385  1      2      1      0\n",
       "20    0  500  x0x1 + x2x3  0.098039  0.838384  2      4      1      1\n",
       "21    1  500  x0x1 + x2x3  0.070122  0.869318  2      4      1      1\n",
       "22    2  500         x2x3  0.293671  0.908257  1      2      0      1\n",
       "23    3  500  x0x1 + x2x3  0.087227  0.879781  2      4      1      1\n",
       "24    4  500  x0x1 + x2x3  0.079114  0.861702  2      4      1      1\n",
       "25    5  500  x0x1 + x2x3  0.094044  0.875676  2      4      1      1\n",
       "26    6  500  x0x1 + x2x3  0.104938  0.905556  2      4      1      1\n",
       "27    7  500  x0x1 + x2x3  0.105611  0.865672  2      4      1      1\n",
       "28    8  500  x0x1 + x2x3  0.115512  0.880597  2      4      1      1\n",
       "29    9  500  x0x1 + x2x3  0.092409  0.890547  2      4      1      1"
      ]
     },
     "execution_count": 110,
     "metadata": {},
     "output_type": "execute_result"
    }
   ],
   "source": [
    "#dfres.sort_values(['nstart', 'nchains', 'theta', 'pgeom', 'run'])\n",
    "dfres.sort_values(['N', 'run'])"
   ]
  },
  {
   "cell_type": "code",
   "execution_count": 93,
   "metadata": {},
   "outputs": [],
   "source": [
    "dfres = dfres.fillna(0)"
   ]
  },
  {
   "cell_type": "code",
   "execution_count": 115,
   "metadata": {},
   "outputs": [],
   "source": [
    "#table1 =  dfres.groupby(['nstart', 'nchains', 'theta', 'pgeom']).mean().reset_index()\n",
    "#table1 = table1.drop(['run', 'theta', 'pgeom'], axis = 1)\n",
    "table1 = dfres.groupby(['N']).mean().reset_index()\n",
    "table1 = table1.drop(['run'], axis = 1)"
   ]
  },
  {
   "cell_type": "code",
   "execution_count": 116,
   "metadata": {},
   "outputs": [
    {
     "name": "stdout",
     "output_type": "stream",
     "text": [
      "\\begin{tabular}{rrrrrrr}\n",
      "\\toprule\n",
      "   N &   p0 &   p1 &    m &  sum k &  term1 &  term2 \\\\\n",
      "\\midrule\n",
      " 100 & 0.23 & 0.88 &  1.1 &    2.2 &    0.6 &    0.5 \\\\\n",
      " 250 & 0.18 & 0.90 &  1.5 &    3.0 &    0.7 &    0.8 \\\\\n",
      " 500 & 0.11 & 0.88 &  1.9 &    3.8 &    0.9 &    1.0 \\\\\n",
      "\\bottomrule\n",
      "\\end{tabular}\n",
      "\n"
     ]
    }
   ],
   "source": [
    "def formatter(l):\n",
    "    return '%1.2f' % l\n",
    "\n",
    "print(table1.to_latex(index = False, formatters = {'p0' : formatter, 'p1' : formatter}))"
   ]
  },
  {
   "cell_type": "code",
   "execution_count": 96,
   "metadata": {},
   "outputs": [
    {
     "name": "stdout",
     "output_type": "stream",
     "text": [
      "\\begin{tabular}{rrrrrr}\n",
      "\\toprule\n",
      " nstart &  nchains &   p0 &   p1 &    m & sum k \\\\\n",
      "\\midrule\n",
      "      1 &        1 & 0.05 & 0.02 & 0.32 &  0.63 \\\\\n",
      "      1 &        2 & 0.08 & 0.02 & 0.52 &  1.03 \\\\\n",
      "      1 &       20 & 0.01 & 0.02 & 0.32 &  2.21 \\\\\n",
      "     10 &        1 & 0.07 & 0.02 & 0.52 &  1.03 \\\\\n",
      "     10 &        2 & 0.08 & 0.01 & 0.52 &  1.03 \\\\\n",
      "     10 &       20 & 0.05 & 0.02 & 0.32 &  0.63 \\\\\n",
      "     20 &        1 & 0.08 & 0.02 & 0.52 &  1.03 \\\\\n",
      "     20 &        2 & 0.07 & 0.01 & 0.48 &  0.97 \\\\\n",
      "     20 &       20 & 0.01 & 0.02 & 0.32 &  1.58 \\\\\n",
      "\\bottomrule\n",
      "\\end{tabular}\n",
      "\n"
     ]
    }
   ],
   "source": [
    "table2 =  dfres.groupby(['nstart', 'nchains', 'theta', 'pgeom']).std().reset_index()\n",
    "table2 = table2.drop(['run', 'term1', 'term2', 'theta', 'pgeom'], axis = 1)\n",
    "print(table2.to_latex(index = False, formatters = {'p0' : formatter, 'p1' : formatter, 'size' : formatter, 'm' : formatter, 'sum k' : formatter}))"
   ]
  },
  {
   "cell_type": "code",
   "execution_count": null,
   "metadata": {},
   "outputs": [],
   "source": []
  }
 ],
 "metadata": {
  "kernelspec": {
   "display_name": "Python 3",
   "language": "python",
   "name": "python3"
  },
  "language_info": {
   "codemirror_mode": {
    "name": "ipython",
    "version": 3
   },
   "file_extension": ".py",
   "mimetype": "text/x-python",
   "name": "python",
   "nbconvert_exporter": "python",
   "pygments_lexer": "ipython3",
   "version": "3.6.7"
  }
 },
 "nbformat": 4,
 "nbformat_minor": 2
}
